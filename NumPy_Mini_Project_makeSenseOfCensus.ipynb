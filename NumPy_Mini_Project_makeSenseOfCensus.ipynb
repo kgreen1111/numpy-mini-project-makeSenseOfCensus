{
  "nbformat": 4,
  "nbformat_minor": 0,
  "metadata": {
    "colab": {
      "name": "NumPy Mini Project makeSenseOfCensus",
      "provenance": [],
      "collapsed_sections": [],
      "authorship_tag": "ABX9TyMvBJDljRYFJo0VrKxmC40Y",
      "include_colab_link": true
    },
    "kernelspec": {
      "name": "python3",
      "display_name": "Python 3"
    },
    "language_info": {
      "name": "python"
    }
  },
  "cells": [
    {
      "cell_type": "markdown",
      "metadata": {
        "id": "view-in-github",
        "colab_type": "text"
      },
      "source": [
        "<a href=\"https://colab.research.google.com/github/kgreen1111/numpy-mini-project-makeSenseOfCensus/blob/main/NumPy_Mini_Project_makeSenseOfCensus.ipynb\" target=\"_parent\"><img src=\"https://colab.research.google.com/assets/colab-badge.svg\" alt=\"Open In Colab\"/></a>"
      ]
    },
    {
      "cell_type": "code",
      "source": [
        "import numpy as np\n",
        "\n",
        "data_file ='/content/makeSenseOfCensus.csv'"
      ],
      "metadata": {
        "id": "YYleiultNJ45"
      },
      "execution_count": 1,
      "outputs": []
    },
    {
      "cell_type": "code",
      "source": [
        "data = np.genfromtxt(data_file, dtype='int64', delimiter=\",\", skip_header=1)\n",
        "\n",
        "print(\"\\nData: \\n\\n\", data)"
      ],
      "metadata": {
        "colab": {
          "base_uri": "https://localhost:8080/"
        },
        "id": "x6O-i5peKvwP",
        "outputId": "14e01fa2-86e4-498d-e85f-f02667bf5a20"
      },
      "execution_count": 2,
      "outputs": [
        {
          "output_type": "stream",
          "name": "stdout",
          "text": [
            "\n",
            "Data: \n",
            "\n",
            " [[39 13  4 ...  0 40  0]\n",
            " [50 13  4 ...  0 13  0]\n",
            " [38  9  4 ...  0 40  0]\n",
            " ...\n",
            " [48 13  4 ...  0 58  1]\n",
            " [40 10  4 ...  0 40  0]\n",
            " [39 13  4 ...  0 50  1]]\n"
          ]
        }
      ]
    },
    {
      "cell_type": "code",
      "source": [
        "print(\"\\nType of data: \\n\\n\", type(data))"
      ],
      "metadata": {
        "colab": {
          "base_uri": "https://localhost:8080/"
        },
        "id": "rFz2dWuyNBFF",
        "outputId": "3e725053-209a-4a48-b96b-003efc902900"
      },
      "execution_count": 3,
      "outputs": [
        {
          "output_type": "stream",
          "name": "stdout",
          "text": [
            "\n",
            "Type of data: \n",
            "\n",
            " <class 'numpy.ndarray'>\n"
          ]
        }
      ]
    },
    {
      "cell_type": "code",
      "source": [
        "new_record = [[50, 9, 4, 1, 0, 0, 40, 0]]\n",
        "\n",
        "data = np.concatenate((data,new_record),axis=0)"
      ],
      "metadata": {
        "id": "bWc83gFs7fwh"
      },
      "execution_count": 4,
      "outputs": []
    },
    {
      "cell_type": "code",
      "source": [
        "age = data[:,0]\n",
        "\n",
        "max_age = np.max(age)\n",
        "print(f\"max age: {max_age}\")\n",
        "min_age = np.min(age)\n",
        "print(f\"min age: {min_age}\")\n",
        "age_mean = np.mean(age)\n",
        "print(f\"mean age: {age_mean}\")\n",
        "age_std = np.std(age)\n",
        "print(f\"standard deviation of age: {age_std}\")"
      ],
      "metadata": {
        "colab": {
          "base_uri": "https://localhost:8080/"
        },
        "id": "VwFXUu6zU-GC",
        "outputId": "54fb71ae-e6d3-4c36-978b-59e2f735fdea"
      },
      "execution_count": 5,
      "outputs": [
        {
          "output_type": "stream",
          "name": "stdout",
          "text": [
            "max age: 90\n",
            "min age: 17\n",
            "mean age: 38.06293706293706\n",
            "standard deviation of age: 13.341478176165857\n"
          ]
        }
      ]
    },
    {
      "cell_type": "code",
      "source": [
        "race = data[:,2]\n",
        "\n",
        "race_0 = (race[race==0])\n",
        "race_1 = (race[race==1])\n",
        "race_2 = (race[race==2])\n",
        "race_3 = (race[race==3])\n",
        "race_4 = (race[race==4])\n",
        "\n",
        "len_0 = len(race_0)\n",
        "len_1 = len(race_1)\n",
        "len_2 = len(race_2)\n",
        "len_3 = len(race_3)\n",
        "len_4 = len(race_4)\n",
        "\n",
        "print(\"Totals by Race:\")\n",
        "print(\"---------------\")\n",
        "print(f\"Amer-Indian-Eskimo: {len_0}\")\n",
        "print(f\"Asian-Pac-Islander: {len_1}\")\n",
        "print(f\"Black: {len_2}\")\n",
        "print(f\"Other: {len_3}\")\n",
        "print(f\"White: {len_4}\")"
      ],
      "metadata": {
        "id": "RckMCnEch8EH",
        "colab": {
          "base_uri": "https://localhost:8080/"
        },
        "outputId": "46e2958d-5eb3-46e4-c070-501f3d904a30"
      },
      "execution_count": 6,
      "outputs": [
        {
          "output_type": "stream",
          "name": "stdout",
          "text": [
            "Totals by Race:\n",
            "---------------\n",
            "Amer-Indian-Eskimo: 10\n",
            "Asian-Pac-Islander: 27\n",
            "Black: 110\n",
            "Other: 6\n",
            "White: 848\n"
          ]
        }
      ]
    },
    {
      "cell_type": "code",
      "source": [
        "race_array = np.array([len_0,len_1,len_2,len_3,len_4])\n",
        "minority_race = np.min(race_array)\n",
        "\n",
        "if len_0 ==minority_race:\n",
        "  print(f\"The race with the fewest citizens is 'Amer-Indian-Eskimo' with {len_0} total citizens.\")\n",
        "elif len_1 ==minority_race:\n",
        "  print(f\"The race with the fewest citizens is 'Asian-Pac-Islander' with {len_1} total citizens.\")\n",
        "elif len_2 ==minority_race:\n",
        "  print(f\"The race with the fewest citizens is 'Black' with {len_2} total citizens.\")\n",
        "elif len_3 ==minority_race:\n",
        "  print(f\"The race with the fewest citizens is 'Other' with {len_3} total citizens.\")\n",
        "else:\n",
        "  print(f\"The race with the fewest citizens is 'White' with {len_4} total citizens.\")"
      ],
      "metadata": {
        "colab": {
          "base_uri": "https://localhost:8080/"
        },
        "id": "HNF6U40z_4J6",
        "outputId": "a2ff2c76-4722-452f-cb90-e31688751983"
      },
      "execution_count": 7,
      "outputs": [
        {
          "output_type": "stream",
          "name": "stdout",
          "text": [
            "The race with the fewest citizens is 'Other' with 6 total citizens.\n"
          ]
        }
      ]
    },
    {
      "cell_type": "code",
      "source": [
        "age = data[:,0]\n",
        "senior_citizens = (data[age>=61])\n",
        "\n",
        "working_hours_sum = np.sum(senior_citizens[:,6])\n",
        "senior_citizens_len = len(senior_citizens)\n",
        "\n",
        "print(f\"There are {senior_citizens_len} senior citizens.\")\n",
        "print(f\"Together, the senior citizen population works a total of {working_hours_sum} per week.\")"
      ],
      "metadata": {
        "id": "CWMcyk51L1RG",
        "colab": {
          "base_uri": "https://localhost:8080/"
        },
        "outputId": "d8f70447-024a-4f68-deb9-e1bf20423b2f"
      },
      "execution_count": 8,
      "outputs": [
        {
          "output_type": "stream",
          "name": "stdout",
          "text": [
            "There are 61 senior citizens.\n",
            "Together, the senior citizen population works a total of 1917 per week.\n"
          ]
        }
      ]
    },
    {
      "cell_type": "code",
      "source": [
        "avg_working_hours = working_hours_sum/senior_citizens_len\n",
        "\n",
        "print(f\"The average working hours for senior citizens is {avg_working_hours}.\")\n",
        "if avg_working_hours >25:\n",
        "  print(\"The average is higher than the recommended maximum of 25 hours per week.\")\n",
        "elif avg_working_hours ==25:\n",
        "  print(\"The average is equal to the recommended maximum of 25 hours per week.\")\n",
        "else:\n",
        "  print(\"The average is below the recommended maximum of 25 hours per week.\")"
      ],
      "metadata": {
        "colab": {
          "base_uri": "https://localhost:8080/"
        },
        "id": "VuIWyzOQD8tt",
        "outputId": "1dfaa0fe-2915-4193-8b95-b8ee1f1f0e65"
      },
      "execution_count": 9,
      "outputs": [
        {
          "output_type": "stream",
          "name": "stdout",
          "text": [
            "The average working hours for senior citizens is 31.42622950819672.\n",
            "The average is higher than the recommended maximum of 25 hours per week.\n"
          ]
        }
      ]
    },
    {
      "cell_type": "code",
      "source": [
        "education = data[:,1]\n",
        "high = (data[education>10])\n",
        "low = (data[education<= 10])\n",
        "\n",
        "avg_pay_high = np.mean(high[:,7])\n",
        "avg_pay_low = np.mean(low[:,7])\n",
        "\n",
        "print(f\"Mean income of citizens with more than 10 years of education: {avg_pay_high}.\")\n",
        "print(f\"Mean income of citizens with 10 or fewer years of education: {avg_pay_low}.\")\n",
        "print(\"\")\n",
        "\n",
        "if avg_pay_high > avg_pay_low:\n",
        "  print(\"The data shows higher educated people are paid higher on average.\")\n",
        "elif avg_pay_high == avg_pay_low:\n",
        "  print(\"The data shows equal pay distribution regardless of the educational background citizens had.\")\n",
        "else:\n",
        "  print(\"The data shows higher educated people are not paid higher on average.\")"
      ],
      "metadata": {
        "id": "a1nGZiKRQU9j",
        "colab": {
          "base_uri": "https://localhost:8080/"
        },
        "outputId": "76b10568-fe8f-44fa-83e9-be14a260a258"
      },
      "execution_count": 10,
      "outputs": [
        {
          "output_type": "stream",
          "name": "stdout",
          "text": [
            "Mean income of citizens with more than 10 years of education: 0.42813455657492355.\n",
            "Mean income of citizens with 10 or fewer years of education: 0.13649851632047477.\n",
            "\n",
            "The data shows higher educated people are paid higher on average.\n"
          ]
        }
      ]
    }
  ]
}